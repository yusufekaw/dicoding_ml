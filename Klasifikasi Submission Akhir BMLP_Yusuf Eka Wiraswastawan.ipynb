{
 "cells": [
  {
   "cell_type": "code",
   "execution_count": 1,
   "id": "ecf61a12-8eeb-4e1d-aa67-4711624d40c2",
   "metadata": {},
   "outputs": [],
   "source": [
    "#import library\n",
    "from data.data_preprocessing import *\n",
    "from algoritma.classification import *"
   ]
  },
  {
   "cell_type": "code",
   "execution_count": 2,
   "id": "cc87f770-2ccc-4902-83a3-94292e92a865",
   "metadata": {},
   "outputs": [
    {
     "name": "stdout",
     "output_type": "stream",
     "text": [
      "\n",
      "\t\tLoading Dataset\n",
      "         year  km_driven  percentage_diff_sell_price  seller_type_Dealer  \\\n",
      "0     0.96875   0.000000                    0.412406                 0.0   \n",
      "1     0.90625   0.006025                    0.203513                 0.0   \n",
      "2     0.93750   0.013244                    0.005253                 0.0   \n",
      "3     0.84375   0.025749                    0.114527                 0.0   \n",
      "4     0.71875   0.023475                    0.321980                 0.0   \n",
      "...       ...        ...                         ...                 ...   \n",
      "1056  0.68750   0.568010                    0.280489                 0.0   \n",
      "1057  0.75000   0.037117                    0.285990                 0.0   \n",
      "1058  0.78125   0.039391                    0.307067                 0.0   \n",
      "1059  0.65625   0.059853                    0.330517                 0.0   \n",
      "1060  0.62500   0.104454                    0.361179                 0.0   \n",
      "\n",
      "      seller_type_Individual  owner_1st owner  owner_2nd owner  \\\n",
      "0                        1.0              1.0              0.0   \n",
      "1                        1.0              1.0              0.0   \n",
      "2                        1.0              1.0              0.0   \n",
      "3                        1.0              1.0              0.0   \n",
      "4                        1.0              0.0              1.0   \n",
      "...                      ...              ...              ...   \n",
      "1056                     1.0              1.0              0.0   \n",
      "1057                     1.0              1.0              0.0   \n",
      "1058                     1.0              0.0              1.0   \n",
      "1059                     1.0              1.0              0.0   \n",
      "1060                     1.0              1.0              0.0   \n",
      "\n",
      "      owner_3rd owner  owner_4th owner  cluster  \n",
      "0                 0.0              0.0        0  \n",
      "1                 0.0              0.0        0  \n",
      "2                 0.0              0.0        0  \n",
      "3                 0.0              0.0        0  \n",
      "4                 0.0              0.0        1  \n",
      "...               ...              ...      ...  \n",
      "1056              0.0              0.0        0  \n",
      "1057              0.0              0.0        0  \n",
      "1058              0.0              0.0        1  \n",
      "1059              0.0              0.0        0  \n",
      "1060              0.0              0.0        0  \n",
      "\n",
      "[1061 rows x 10 columns]\n"
     ]
    }
   ],
   "source": [
    "#path file dataset\n",
    "path = \"data/dataset/dataset.csv\"\n",
    "#dataset\n",
    "dataset = load_dataset(path)\n",
    "print(\"\\n\\t\\tLoading Dataset\")\n",
    "print(dataset)"
   ]
  },
  {
   "cell_type": "code",
   "execution_count": 3,
   "id": "d791b6c5-9a64-496c-8729-5b7847c8c7d8",
   "metadata": {},
   "outputs": [
    {
     "name": "stdout",
     "output_type": "stream",
     "text": [
      "\n",
      "\t\tSplit Dataset\n",
      "\n",
      "\tData Training\n",
      "         year  km_driven  percentage_diff_sell_price  seller_type_Dealer  \\\n",
      "72    0.84375   0.017627                    0.122506                 0.0   \n",
      "898   0.84375   0.051975                    0.194048                 0.0   \n",
      "44    0.93750   0.008697                    0.004697                 0.0   \n",
      "309   0.93750   0.024612                    0.112604                 0.0   \n",
      "784   0.75000   0.033707                    0.248686                 0.0   \n",
      "...       ...        ...                         ...                 ...   \n",
      "330   0.90625   0.016654                    0.203513                 0.0   \n",
      "466   0.90625   0.013244                    0.108194                 0.0   \n",
      "121   0.93750   0.007560                    0.047335                 0.0   \n",
      "1044  0.68750   0.029159                    0.277817                 0.0   \n",
      "860   0.71875   0.013244                    0.204457                 0.0   \n",
      "\n",
      "      seller_type_Individual  owner_1st owner  owner_2nd owner  \\\n",
      "72                       1.0              1.0              0.0   \n",
      "898                      1.0              0.0              1.0   \n",
      "44                       1.0              1.0              0.0   \n",
      "309                      1.0              1.0              0.0   \n",
      "784                      1.0              0.0              1.0   \n",
      "...                      ...              ...              ...   \n",
      "330                      1.0              1.0              0.0   \n",
      "466                      1.0              1.0              0.0   \n",
      "121                      1.0              1.0              0.0   \n",
      "1044                     1.0              0.0              1.0   \n",
      "860                      1.0              1.0              0.0   \n",
      "\n",
      "      owner_3rd owner  owner_4th owner  \n",
      "72                0.0              0.0  \n",
      "898               0.0              0.0  \n",
      "44                0.0              0.0  \n",
      "309               0.0              0.0  \n",
      "784               0.0              0.0  \n",
      "...               ...              ...  \n",
      "330               0.0              0.0  \n",
      "466               0.0              0.0  \n",
      "121               0.0              0.0  \n",
      "1044              0.0              0.0  \n",
      "860               0.0              0.0  \n",
      "\n",
      "[848 rows x 9 columns]\n",
      "\n",
      "\tData Testing\n",
      "        year  km_driven  percentage_diff_sell_price  seller_type_Dealer  \\\n",
      "31   0.78125   0.084863                    0.217354                 0.0   \n",
      "413  0.71875   0.045075                    0.302391                 0.0   \n",
      "535  0.59375   0.113284                    0.359889                 0.0   \n",
      "743  0.75000   0.015631                    0.257916                 0.0   \n",
      "792  0.96875   0.009265                    0.029026                 0.0   \n",
      "..       ...        ...                         ...                 ...   \n",
      "581  0.81250   0.039391                    0.274593                 0.0   \n",
      "55   0.56250   0.084863                    0.298286                 0.0   \n",
      "120  0.81250   0.024612                    0.019179                 0.0   \n",
      "388  0.53125   0.065537                    0.378844                 0.0   \n",
      "25   0.75000   0.039391                    0.231166                 0.0   \n",
      "\n",
      "     seller_type_Individual  owner_1st owner  owner_2nd owner  \\\n",
      "31                      1.0              1.0              0.0   \n",
      "413                     1.0              1.0              0.0   \n",
      "535                     1.0              0.0              1.0   \n",
      "743                     1.0              1.0              0.0   \n",
      "792                     1.0              1.0              0.0   \n",
      "..                      ...              ...              ...   \n",
      "581                     1.0              0.0              1.0   \n",
      "55                      1.0              1.0              0.0   \n",
      "120                     1.0              0.0              1.0   \n",
      "388                     1.0              1.0              0.0   \n",
      "25                      1.0              1.0              0.0   \n",
      "\n",
      "     owner_3rd owner  owner_4th owner  \n",
      "31               0.0              0.0  \n",
      "413              0.0              0.0  \n",
      "535              0.0              0.0  \n",
      "743              0.0              0.0  \n",
      "792              0.0              0.0  \n",
      "..               ...              ...  \n",
      "581              0.0              0.0  \n",
      "55               0.0              0.0  \n",
      "120              0.0              0.0  \n",
      "388              0.0              0.0  \n",
      "25               0.0              0.0  \n",
      "\n",
      "[213 rows x 9 columns]\n"
     ]
    }
   ],
   "source": [
    "#splitting dataset\n",
    "X, y, X_train, X_test, y_train, y_test = split_dataset(dataset, 'cluster')\n",
    "#Menampilkan splitting dataset\n",
    "print(\"\\n\\t\\tSplit Dataset\")\n",
    "print(\"\\n\\tData Training\")\n",
    "print(X_train)\n",
    "print(\"\\n\\tData Testing\")\n",
    "print(X_test)"
   ]
  },
  {
   "cell_type": "code",
   "execution_count": 4,
   "id": "7a6ff61f-6bb0-4890-8c51-3d027533770c",
   "metadata": {},
   "outputs": [
    {
     "name": "stdout",
     "output_type": "stream",
     "text": [
      "\n",
      "\t\tMembangun model dengan regresi logistik biner\n",
      "\n",
      "\tKelas yang dihasilkan dari proses clustering berdasarkan K optimal menggunakan elbow adalah 2 sehingga menghasilkan 2 kelas bertipe biner. Maka, algoritma regresi logistik biner di pilih untuk modeling klasifikasi.\n",
      "hasil training model pada data training\n",
      "         year  km_driven  percentage_diff_sell_price  seller_type_Dealer  \\\n",
      "72    0.84375   0.017627                    0.122506                 0.0   \n",
      "898   0.84375   0.051975                    0.194048                 0.0   \n",
      "44    0.93750   0.008697                    0.004697                 0.0   \n",
      "309   0.93750   0.024612                    0.112604                 0.0   \n",
      "784   0.75000   0.033707                    0.248686                 0.0   \n",
      "...       ...        ...                         ...                 ...   \n",
      "330   0.90625   0.016654                    0.203513                 0.0   \n",
      "466   0.90625   0.013244                    0.108194                 0.0   \n",
      "121   0.93750   0.007560                    0.047335                 0.0   \n",
      "1044  0.68750   0.029159                    0.277817                 0.0   \n",
      "860   0.71875   0.013244                    0.204457                 0.0   \n",
      "\n",
      "      seller_type_Individual  owner_1st owner  owner_2nd owner  \\\n",
      "72                       1.0              1.0              0.0   \n",
      "898                      1.0              0.0              1.0   \n",
      "44                       1.0              1.0              0.0   \n",
      "309                      1.0              1.0              0.0   \n",
      "784                      1.0              0.0              1.0   \n",
      "...                      ...              ...              ...   \n",
      "330                      1.0              1.0              0.0   \n",
      "466                      1.0              1.0              0.0   \n",
      "121                      1.0              1.0              0.0   \n",
      "1044                     1.0              0.0              1.0   \n",
      "860                      1.0              1.0              0.0   \n",
      "\n",
      "      owner_3rd owner  owner_4th owner  actual  predict  \n",
      "72                0.0              0.0       0        0  \n",
      "898               0.0              0.0       1        1  \n",
      "44                0.0              0.0       0        0  \n",
      "309               0.0              0.0       0        0  \n",
      "784               0.0              0.0       1        1  \n",
      "...               ...              ...     ...      ...  \n",
      "330               0.0              0.0       0        0  \n",
      "466               0.0              0.0       0        0  \n",
      "121               0.0              0.0       0        0  \n",
      "1044              0.0              0.0       1        1  \n",
      "860               0.0              0.0       0        0  \n",
      "\n",
      "[848 rows x 11 columns]\n"
     ]
    }
   ],
   "source": [
    "# Membuat model regresi logistik\n",
    "print(\"\\n\\t\\tMembangun model dengan regresi logistik biner\")\n",
    "print(\"\\n\\tKelas yang dihasilkan dari proses clustering berdasarkan K optimal menggunakan elbow adalah 2 sehingga menghasilkan 2 kelas bertipe biner. Maka, algoritma regresi logistik biner di pilih untuk modeling klasifikasi.\")\n",
    "#model\n",
    "y_train_pred, y_test_pred = model(X_train, y_train, X_test)\n",
    "#hasil modeling\n",
    "train_set, test_set = train_test_set(X_train, X_test, y_train, y_train_pred, y_test, y_test_pred)\n",
    "print(\"hasil training model pada data training\")\n",
    "print(train_set)"
   ]
  },
  {
   "cell_type": "code",
   "execution_count": 5,
   "id": "c1ae8a3f-ba8b-40ab-a3dd-ded1e3d6330e",
   "metadata": {},
   "outputs": [
    {
     "name": "stdout",
     "output_type": "stream",
     "text": [
      "\n",
      "Evaluasi pada Data Training:\n"
     ]
    },
    {
     "data": {
      "image/png": "[encoded data removed]",
      "text/plain": [
       "<Figure size 800x600 with 2 Axes>"
      ]
     },
     "metadata": {},
     "output_type": "display_data"
    },
    {
     "name": "stdout",
     "output_type": "stream",
     "text": [
      "\n",
      "Akurasi Model : 1.0\n",
      "\n",
      "Modeling Report:\n",
      "               precision    recall  f1-score   support\n",
      "\n",
      "           0       1.00      1.00      1.00       736\n",
      "           1       1.00      1.00      1.00       112\n",
      "\n",
      "    accuracy                           1.00       848\n",
      "   macro avg       1.00      1.00      1.00       848\n",
      "weighted avg       1.00      1.00      1.00       848\n",
      "\n"
     ]
    }
   ],
   "source": [
    "#evaluasi model\n",
    "cm_train, accuracy_train, report_train = evaluation(y_train, y_train_pred)\n",
    "#print hasil\n",
    "print(\"\\nEvaluasi pada Data Training:\")\n",
    "cm_visualization(cm_train)\n",
    "print(\"\\nAkurasi Model :\", accuracy_train)\n",
    "print(\"\\nModeling Report:\\n\", report_train)"
   ]
  },
  {
   "cell_type": "code",
   "execution_count": 6,
   "id": "4565e98f-a5bc-43c9-9476-a1b87dd959b4",
   "metadata": {},
   "outputs": [
    {
     "name": "stdout",
     "output_type": "stream",
     "text": [
      "hasil prediksi klasifikasi\n",
      "        year  km_driven  percentage_diff_sell_price  seller_type_Dealer  \\\n",
      "31   0.78125   0.084863                    0.217354                 0.0   \n",
      "413  0.71875   0.045075                    0.302391                 0.0   \n",
      "535  0.59375   0.113284                    0.359889                 0.0   \n",
      "743  0.75000   0.015631                    0.257916                 0.0   \n",
      "792  0.96875   0.009265                    0.029026                 0.0   \n",
      "..       ...        ...                         ...                 ...   \n",
      "581  0.81250   0.039391                    0.274593                 0.0   \n",
      "55   0.56250   0.084863                    0.298286                 0.0   \n",
      "120  0.81250   0.024612                    0.019179                 0.0   \n",
      "388  0.53125   0.065537                    0.378844                 0.0   \n",
      "25   0.75000   0.039391                    0.231166                 0.0   \n",
      "\n",
      "     seller_type_Individual  owner_1st owner  owner_2nd owner  \\\n",
      "31                      1.0              1.0              0.0   \n",
      "413                     1.0              1.0              0.0   \n",
      "535                     1.0              0.0              1.0   \n",
      "743                     1.0              1.0              0.0   \n",
      "792                     1.0              1.0              0.0   \n",
      "..                      ...              ...              ...   \n",
      "581                     1.0              0.0              1.0   \n",
      "55                      1.0              1.0              0.0   \n",
      "120                     1.0              0.0              1.0   \n",
      "388                     1.0              1.0              0.0   \n",
      "25                      1.0              1.0              0.0   \n",
      "\n",
      "     owner_3rd owner  owner_4th owner  actual  predict  \n",
      "31               0.0              0.0       0        0  \n",
      "413              0.0              0.0       0        0  \n",
      "535              0.0              0.0       1        1  \n",
      "743              0.0              0.0       0        0  \n",
      "792              0.0              0.0       0        0  \n",
      "..               ...              ...     ...      ...  \n",
      "581              0.0              0.0       1        1  \n",
      "55               0.0              0.0       0        0  \n",
      "120              0.0              0.0       1        1  \n",
      "388              0.0              0.0       0        0  \n",
      "25               0.0              0.0       0        0  \n",
      "\n",
      "[213 rows x 11 columns]\n"
     ]
    }
   ],
   "source": [
    "#cetak hasil prediksi klasifikasi\n",
    "print(\"hasil prediksi klasifikasi\")\n",
    "print(test_set)"
   ]
  },
  {
   "cell_type": "code",
   "execution_count": 7,
   "id": "6530872c-6657-4b49-95da-399113f57bf6",
   "metadata": {},
   "outputs": [
    {
     "name": "stdout",
     "output_type": "stream",
     "text": [
      "\n",
      "Evaluasi pada Data Testing:\n"
     ]
    },
    {
     "data": {
      "image/png": "[encoded data removed]",
      "text/plain": [
       "<Figure size 800x600 with 2 Axes>"
      ]
     },
     "metadata": {},
     "output_type": "display_data"
    },
    {
     "name": "stdout",
     "output_type": "stream",
     "text": [
      "\n",
      "Akurasi Prediksi : 1.0\n",
      "\n",
      "Classification Report :\n",
      "               precision    recall  f1-score   support\n",
      "\n",
      "           0       1.00      1.00      1.00       188\n",
      "           1       1.00      1.00      1.00        25\n",
      "\n",
      "    accuracy                           1.00       213\n",
      "   macro avg       1.00      1.00      1.00       213\n",
      "weighted avg       1.00      1.00      1.00       213\n",
      "\n"
     ]
    }
   ],
   "source": [
    "#evaluasi klasifikasi\n",
    "cm_test, accuracy_test, report_test = evaluation(y_test, y_test_pred)\n",
    "#print hasil\n",
    "print(\"\\nEvaluasi pada Data Testing:\")\n",
    "cm_visualization(cm_test)\n",
    "print(\"\\nAkurasi Prediksi :\", accuracy_test)\n",
    "print(\"\\nClassification Report :\\n\", report_test)"
   ]
  },
  {
   "cell_type": "code",
   "execution_count": 8,
   "id": "6fe163df-e43f-4445-a747-aa204a6512fe",
   "metadata": {},
   "outputs": [
    {
     "name": "stdout",
     "output_type": "stream",
     "text": [
      "\n",
      "\t\tKesimpulan\n",
      "Akurasi mencapai 100% (ditunjukkan dengan nilai 1 dalam hasil evaluasi), menunjukkan model telah bekerja dengan sempurna dalam mengklasifikasi data penjualan motor.\n",
      "\n",
      "\tRekomendasi :\n",
      "Dibutuhkan data lebih banyak lagi untuk mengetahui kinerja model lebih lanjut.\n"
     ]
    }
   ],
   "source": [
    "print(\"\\n\\t\\tKesimpulan\")\n",
    "print(\"Akurasi mencapai 100% (ditunjukkan dengan nilai 1 dalam hasil evaluasi), menunjukkan model telah bekerja dengan sempurna dalam mengklasifikasi data penjualan motor.\")\n",
    "print(\"\\n\\tRekomendasi :\")\n",
    "print(\"Dibutuhkan data lebih banyak lagi untuk mengetahui kinerja model lebih lanjut.\")"
   ]
  },
  {
   "cell_type": "code",
   "execution_count": null,
   "id": "f0aff71f-21c6-4874-a227-d7a898bb2c0b",
   "metadata": {},
   "outputs": [],
   "source": []
  }
 ],
 "metadata": {
  "kernelspec": {
   "display_name": "Python 3 (ipykernel)",
   "language": "python",
   "name": "python3"
  },
  "language_info": {
   "codemirror_mode": {
    "name": "ipython",
    "version": 3
   },
   "file_extension": ".py",
   "mimetype": "text/x-python",
   "name": "python",
   "nbconvert_exporter": "python",
   "pygments_lexer": "ipython3",
   "version": "3.12.1"
  }
 },
 "nbformat": 4,
 "nbformat_minor": 5
}
